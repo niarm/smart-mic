{
 "cells": [
  {
   "cell_type": "code",
   "execution_count": 7,
   "metadata": {
    "collapsed": true
   },
   "outputs": [],
   "source": [
    "import cv2"
   ]
  },
  {
   "cell_type": "code",
   "execution_count": 8,
   "metadata": {
    "collapsed": true
   },
   "outputs": [],
   "source": [
    "stitcher = cv2.createStitcher(True)"
   ]
  },
  {
   "cell_type": "code",
   "execution_count": 86,
   "metadata": {
    "collapsed": true
   },
   "outputs": [],
   "source": [
    "paths = [\n",
    "    \"test_images/mic_pic_2/sliced/1.png\",\n",
    "    \"test_images/mic_pic_2/sliced/2.png\",\n",
    "    \"test_images/mic_pic_2/sliced/3.png\",\n",
    "    \"test_images/mic_pic_2/sliced/4.png\",\n",
    "    \"test_images/mic_pic_2/sliced/5.png\",\n",
    "    \"test_images/mic_pic_2/sliced/6.png\",\n",
    "    \"test_images/mic_pic_2/sliced/7.png\",\n",
    "    \"test_images/mic_pic_2/sliced/8.png\",\n",
    "    \"test_images/mic_pic_2/sliced/9.png\",\n",
    "    \"test_images/mic_pic_2/sliced/10.png\",\n",
    "]\n",
    "\n",
    "paths_orig = [\n",
    "    \"test_images/mic_pic_3/1.png\",\n",
    "    \"test_images/mic_pic_3/2.png\",\n",
    "    \"test_images/mic_pic_3/3.png\",\n",
    "]\n",
    "\n",
    "thumbs_orig = [\n",
    "    cv2.imread(\"test_images/mic_pic_3/thumb/1.png\"),\n",
    "    cv2.imread(\"test_images/mic_pic_3/thumb/2.png\"),\n",
    "    cv2.imread(\"test_images/mic_pic_3/thumb/3.png\"),\n",
    "]\n",
    "\n",
    "thumbs = [\n",
    "    cv2.imread(\"test_images/mic_pic_2/sliced/thumb/1.png\"),\n",
    "    cv2.imread(\"test_images/mic_pic_2/sliced/thumb/2.png\"),\n",
    "    cv2.imread(\"test_images/mic_pic_2/sliced/thumb/3.png\"),\n",
    "    cv2.imread(\"test_images/mic_pic_2/sliced/thumb/4.png\"),\n",
    "    cv2.imread(\"test_images/mic_pic_2/sliced/thumb/5.png\"),\n",
    "    cv2.imread(\"test_images/mic_pic_2/sliced/thumb/6.png\"),\n",
    "    cv2.imread(\"test_images/mic_pic_2/sliced/thumb/7.png\"),\n",
    "    cv2.imread(\"test_images/mic_pic_2/sliced/thumb/8.png\"),\n",
    "    cv2.imread(\"test_images/mic_pic_2/sliced/thumb/9.png\"),\n",
    "    cv2.imread(\"test_images/mic_pic_2/sliced/thumb/10.png\")\n",
    "]\n",
    "\n",
    "images_slice1 = [\n",
    "cv2.imread(\"test_images/mic_pic_2/sliced/1.png\"),\n",
    "cv2.imread(\"test_images/mic_pic_2/sliced/2.png\"),\n",
    "cv2.imread(\"test_images/mic_pic_2/sliced/3.png\"),\n",
    "cv2.imread(\"test_images/mic_pic_2/sliced/4.png\"),\n",
    "cv2.imread(\"test_images/mic_pic_2/sliced/5.png\")\n",
    "]\n",
    "\n",
    "images_slice2 = [\n",
    "cv2.imread(\"test_images/mic_pic_2/sliced/6.png\"),\n",
    "cv2.imread(\"test_images/mic_pic_2/sliced/7.png\"),\n",
    "cv2.imread(\"test_images/mic_pic_2/sliced/8.png\"),\n",
    "cv2.imread(\"test_images/mic_pic_2/sliced/9.png\"),\n",
    "cv2.imread(\"test_images/mic_pic_2/sliced/10.png\")\n",
    "]"
   ]
  },
  {
   "cell_type": "code",
   "execution_count": 87,
   "metadata": {
    "collapsed": true
   },
   "outputs": [],
   "source": [
    "def stitchSlice(sliceImages):\n",
    "    firstRun = True\n",
    "    comb_image = None\n",
    "    for i,image in enumerate(sliceImages):\n",
    "        if firstRun == True:\n",
    "            print(i)\n",
    "            result = stitcher.stitch([sliceImages[i], sliceImages[i+1]])\n",
    "            comb_image = result[1]\n",
    "            firstRun = False\n",
    "        else:\n",
    "            print(i)\n",
    "            result = stitcher.stitch([comb_image, image])\n",
    "            comb_image = result[1]\n",
    "    \n",
    "    return comb_image"
   ]
  },
  {
   "cell_type": "code",
   "execution_count": 84,
   "metadata": {
    "collapsed": true
   },
   "outputs": [],
   "source": [
    "from PIL import Image\n",
    "from io import StringIO\n",
    "\n",
    "def generate_thumbnail_image(images):\n",
    "    for i,im in enumerate(images):\n",
    "        image = Image.open(im)\n",
    "        image.thumbnail((405, 270))\n",
    "        thumb_buffer = StringIO()\n",
    "        image.save(\"test_images/mic_pic_3/thumb/\"+str(i+1)+\".png\")"
   ]
  },
  {
   "cell_type": "code",
   "execution_count": 85,
   "metadata": {
    "collapsed": true
   },
   "outputs": [],
   "source": [
    "generate_thumbnail_image(paths_orig)"
   ]
  },
  {
   "cell_type": "code",
   "execution_count": null,
   "metadata": {
    "collapsed": true
   },
   "outputs": [],
   "source": []
  },
  {
   "cell_type": "code",
   "execution_count": 25,
   "metadata": {},
   "outputs": [
    {
     "name": "stdout",
     "output_type": "stream",
     "text": [
      "CPU times: user 42.2 s, sys: 748 ms, total: 42.9 s\n",
      "Wall time: 35.9 s\n"
     ]
    }
   ],
   "source": [
    "%time all_big = stitcher.stitch(images_slice1+images_slice2)"
   ]
  },
  {
   "cell_type": "code",
   "execution_count": 94,
   "metadata": {},
   "outputs": [
    {
     "name": "stdout",
     "output_type": "stream",
     "text": [
      "CPU times: user 961 ms, sys: 60.1 ms, total: 1.02 s\n",
      "Wall time: 985 ms\n",
      "0\n",
      "1\n",
      "2\n",
      "CPU times: user 742 ms, sys: 86.6 ms, total: 829 ms\n",
      "Wall time: 875 ms\n"
     ]
    }
   ],
   "source": [
    "%time all_thumbs_orig = stitcher.stitch(thumbs_orig)\n",
    "%time iter_thumbs_orig = stitchSlice(thumbs_orig)"
   ]
  },
  {
   "cell_type": "code",
   "execution_count": 76,
   "metadata": {},
   "outputs": [
    {
     "name": "stdout",
     "output_type": "stream",
     "text": [
      "0\n",
      "1\n",
      "2\n",
      "3\n",
      "4\n",
      "CPU times: user 2.04 s, sys: 172 ms, total: 2.21 s\n",
      "Wall time: 2.28 s\n",
      "0\n",
      "1\n",
      "2\n",
      "3\n",
      "4\n",
      "CPU times: user 2.01 s, sys: 140 ms, total: 2.15 s\n",
      "Wall time: 2.23 s\n"
     ]
    }
   ],
   "source": [
    "%time thumbs_slice1 = stitchSlice(thumbs[0:5])\n",
    "%time thumbs_slice2 = stitchSlice(thumbs[5:])"
   ]
  },
  {
   "cell_type": "code",
   "execution_count": 78,
   "metadata": {},
   "outputs": [
    {
     "name": "stdout",
     "output_type": "stream",
     "text": [
      "CPU times: user 21.4 s, sys: 454 ms, total: 21.9 s\n",
      "Wall time: 18.5 s\n"
     ]
    }
   ],
   "source": [
    "%time thumbs_comb = stitcher.stitch(thumbs)"
   ]
  },
  {
   "cell_type": "code",
   "execution_count": null,
   "metadata": {
    "collapsed": true
   },
   "outputs": [],
   "source": []
  },
  {
   "cell_type": "code",
   "execution_count": 95,
   "metadata": {},
   "outputs": [
    {
     "data": {
      "text/plain": [
       "True"
      ]
     },
     "execution_count": 95,
     "metadata": {},
     "output_type": "execute_result"
    }
   ],
   "source": [
    "#cv2.imwrite(\"result_seperate.jpg\", result_b[1])\n",
    "cv2.imwrite(\"test_images/mic_pic_3/res_thumbs_4.jpg\", all_thumbs_orig[1])\n",
    "cv2.imwrite(\"test_images/mic_pic_3/res_thumbs_iter_4.jpg\", iter_thumbs_orig)\n",
    "#cv2.imwrite(\"test_images/mic_pic_2/sliced/result_all_Small_iter_sl_2.jpg\", thumbs_slice2)\n",
    "#cv2.imwrite(\"test_images/mic_pic_2/sliced/result_all_Small_comb.jpg\", thumbs_comb[1])\n",
    "#cv2.imwrite(\"test_images/mic_pic_2/sliced/result_slice2.jpg\", slice2_im)"
   ]
  },
  {
   "cell_type": "code",
   "execution_count": null,
   "metadata": {
    "collapsed": true
   },
   "outputs": [],
   "source": []
  },
  {
   "cell_type": "code",
   "execution_count": null,
   "metadata": {
    "collapsed": true
   },
   "outputs": [],
   "source": []
  },
  {
   "cell_type": "code",
   "execution_count": 100,
   "metadata": {},
   "outputs": [],
   "source": [
    "### TILES FROM IMAGE\n",
    "import cv2\n",
    "import math\n",
    "\n",
    "img = cv2.imread(\"test_images/mic_pic_2/original.jpg\") # 512x512\n",
    "\n",
    "img_shape = img.shape\n",
    "tile_size = (550, 550)\n",
    "offset = (450, 450)\n",
    "name = 0\n",
    "for i in range(int(math.ceil(img_shape[0]/(offset[1] * 1.0)))):\n",
    "    for j in range(int(math.ceil(img_shape[1]/(offset[0] * 1.0)))):\n",
    "        cropped_img = img[offset[1]*i:min(offset[1]*i+tile_size[1], img_shape[0]), offset[0]*j:min(offset[0]*j+tile_size[0], img_shape[1])]\n",
    "        # Debugging the tiles\n",
    "        name +=1\n",
    "        cv2.imwrite(\"test_images/mic_pic_2/tiled/\" + str(name) + \".png\", cropped_img)"
   ]
  },
  {
   "cell_type": "code",
   "execution_count": null,
   "metadata": {
    "collapsed": true
   },
   "outputs": [],
   "source": []
  },
  {
   "cell_type": "code",
   "execution_count": null,
   "metadata": {
    "collapsed": true
   },
   "outputs": [],
   "source": []
  },
  {
   "cell_type": "code",
   "execution_count": null,
   "metadata": {
    "collapsed": true
   },
   "outputs": [],
   "source": []
  },
  {
   "cell_type": "code",
   "execution_count": null,
   "metadata": {
    "collapsed": true
   },
   "outputs": [],
   "source": []
  }
 ],
 "metadata": {
  "kernelspec": {
   "display_name": "py_36_env",
   "language": "python",
   "name": "py_36_env"
  },
  "language_info": {
   "codemirror_mode": {
    "name": "ipython",
    "version": 3
   },
   "file_extension": ".py",
   "mimetype": "text/x-python",
   "name": "python",
   "nbconvert_exporter": "python",
   "pygments_lexer": "ipython3",
   "version": "3.6.3"
  }
 },
 "nbformat": 4,
 "nbformat_minor": 2
}
